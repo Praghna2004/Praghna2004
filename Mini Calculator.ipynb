{
 "cells": [
  {
   "cell_type": "code",
   "execution_count": 2,
   "id": "f27304ab",
   "metadata": {
    "scrolled": false
   },
   "outputs": [
    {
     "name": "stdout",
     "output_type": "stream",
     "text": [
      "enter first num :2\n",
      "enter operator (+,-,*,/,%) : +\n",
      "enter second num : 5\n",
      "7\n"
     ]
    }
   ],
   "source": [
    "first = input(\"enter first num :\")\n",
    "operator = input(\"enter operator (+,-,*,/,%) : \")\n",
    "second = input(\"enter second num : \")\n",
    "first = int(first)\n",
    "second = int(second)\n",
    "\n",
    "if operator == \"+\":\n",
    "    print(first + second)\n",
    "        \n",
    "elif operator == \"-\":\n",
    "    print(first - second)\n",
    "        \n",
    "elif operator == \"*\":\n",
    "    print(first * second)\n",
    "        \n",
    "elif operator == \"/\":\n",
    "    print(first / second)\n",
    "        \n",
    "elif operator == \"%\":\n",
    "    print(first % second)\n",
    "        \n",
    "else:\n",
    "    print(\"invalid operation\")\n",
    "        "
   ]
  },
  {
   "cell_type": "code",
   "execution_count": null,
   "id": "6a310b27",
   "metadata": {},
   "outputs": [],
   "source": []
  }
 ],
 "metadata": {
  "kernelspec": {
   "display_name": "Python 3 (ipykernel)",
   "language": "python",
   "name": "python3"
  },
  "language_info": {
   "codemirror_mode": {
    "name": "ipython",
    "version": 3
   },
   "file_extension": ".py",
   "mimetype": "text/x-python",
   "name": "python",
   "nbconvert_exporter": "python",
   "pygments_lexer": "ipython3",
   "version": "3.10.0"
  }
 },
 "nbformat": 4,
 "nbformat_minor": 5
}
